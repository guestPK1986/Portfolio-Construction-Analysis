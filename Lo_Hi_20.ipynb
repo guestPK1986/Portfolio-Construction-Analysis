{
 "cells": [
  {
   "cell_type": "code",
   "execution_count": null,
   "metadata": {},
   "outputs": [],
   "source": [
    "\n"
   ]
  },
  {
   "cell_type": "code",
   "execution_count": 23,
   "metadata": {},
   "outputs": [],
   "source": [
    "import pandas as pd\n",
    "import numpy as np\n",
    "returns = pd.read_csv('Portfolios_Formed_on_ME_monthly_EW.csv',\n",
    "                      header=0, index_col=0,parse_dates=True, na_values=-99.99\n",
    "                    )\n"
   ]
  },
  {
   "cell_type": "code",
   "execution_count": 100,
   "metadata": {},
   "outputs": [
    {
     "data": {
      "text/html": [
       "<div>\n",
       "<style scoped>\n",
       "    .dataframe tbody tr th:only-of-type {\n",
       "        vertical-align: middle;\n",
       "    }\n",
       "\n",
       "    .dataframe tbody tr th {\n",
       "        vertical-align: top;\n",
       "    }\n",
       "\n",
       "    .dataframe thead th {\n",
       "        text-align: right;\n",
       "    }\n",
       "</style>\n",
       "<table border=\"1\" class=\"dataframe\">\n",
       "  <thead>\n",
       "    <tr style=\"text-align: right;\">\n",
       "      <th></th>\n",
       "      <th>Lo 20</th>\n",
       "      <th>Hi 20</th>\n",
       "    </tr>\n",
       "  </thead>\n",
       "  <tbody>\n",
       "    <tr>\n",
       "      <th>1999-01-01 00:01:00</th>\n",
       "      <td>0.001114</td>\n",
       "      <td>0.000153</td>\n",
       "    </tr>\n",
       "    <tr>\n",
       "      <th>1999-01-01 00:02:00</th>\n",
       "      <td>-0.000399</td>\n",
       "      <td>-0.000172</td>\n",
       "    </tr>\n",
       "    <tr>\n",
       "      <th>1999-01-01 00:03:00</th>\n",
       "      <td>-0.000308</td>\n",
       "      <td>0.000368</td>\n",
       "    </tr>\n",
       "    <tr>\n",
       "      <th>1999-01-01 00:04:00</th>\n",
       "      <td>0.000824</td>\n",
       "      <td>0.000679</td>\n",
       "    </tr>\n",
       "    <tr>\n",
       "      <th>1999-01-01 00:05:00</th>\n",
       "      <td>0.000435</td>\n",
       "      <td>-0.000048</td>\n",
       "    </tr>\n",
       "  </tbody>\n",
       "</table>\n",
       "</div>"
      ],
      "text/plain": [
       "                        Lo 20     Hi 20\n",
       "1999-01-01 00:01:00  0.001114  0.000153\n",
       "1999-01-01 00:02:00 -0.000399 -0.000172\n",
       "1999-01-01 00:03:00 -0.000308  0.000368\n",
       "1999-01-01 00:04:00  0.000824  0.000679\n",
       "1999-01-01 00:05:00  0.000435 -0.000048"
      ]
     },
     "execution_count": 100,
     "metadata": {},
     "output_type": "execute_result"
    }
   ],
   "source": [
    "returns.head()"
   ]
  },
  {
   "cell_type": "code",
   "execution_count": 98,
   "metadata": {},
   "outputs": [
    {
     "data": {
      "text/html": [
       "<div>\n",
       "<style scoped>\n",
       "    .dataframe tbody tr th:only-of-type {\n",
       "        vertical-align: middle;\n",
       "    }\n",
       "\n",
       "    .dataframe tbody tr th {\n",
       "        vertical-align: top;\n",
       "    }\n",
       "\n",
       "    .dataframe thead th {\n",
       "        text-align: right;\n",
       "    }\n",
       "</style>\n",
       "<table border=\"1\" class=\"dataframe\">\n",
       "  <thead>\n",
       "    <tr style=\"text-align: right;\">\n",
       "      <th></th>\n",
       "      <th>Lo 20</th>\n",
       "      <th>Hi 20</th>\n",
       "    </tr>\n",
       "  </thead>\n",
       "  <tbody>\n",
       "    <tr>\n",
       "      <th>1999-01-01 00:01:00</th>\n",
       "      <td>0.001114</td>\n",
       "      <td>0.000153</td>\n",
       "    </tr>\n",
       "    <tr>\n",
       "      <th>1999-01-01 00:02:00</th>\n",
       "      <td>-0.000399</td>\n",
       "      <td>-0.000172</td>\n",
       "    </tr>\n",
       "    <tr>\n",
       "      <th>1999-01-01 00:03:00</th>\n",
       "      <td>-0.000308</td>\n",
       "      <td>0.000368</td>\n",
       "    </tr>\n",
       "    <tr>\n",
       "      <th>1999-01-01 00:04:00</th>\n",
       "      <td>0.000824</td>\n",
       "      <td>0.000679</td>\n",
       "    </tr>\n",
       "    <tr>\n",
       "      <th>1999-01-01 00:05:00</th>\n",
       "      <td>0.000435</td>\n",
       "      <td>-0.000048</td>\n",
       "    </tr>\n",
       "  </tbody>\n",
       "</table>\n",
       "</div>"
      ],
      "text/plain": [
       "                        Lo 20     Hi 20\n",
       "1999-01-01 00:01:00  0.001114  0.000153\n",
       "1999-01-01 00:02:00 -0.000399 -0.000172\n",
       "1999-01-01 00:03:00 -0.000308  0.000368\n",
       "1999-01-01 00:04:00  0.000824  0.000679\n",
       "1999-01-01 00:05:00  0.000435 -0.000048"
      ]
     },
     "execution_count": 98,
     "metadata": {},
     "output_type": "execute_result"
    }
   ],
   "source": [
    "columns = ['Lo 20','Hi 20']\n",
    "returns = returns[columns]\n",
    "returns.head()"
   ]
  },
  {
   "cell_type": "code",
   "execution_count": 101,
   "metadata": {},
   "outputs": [
    {
     "data": {
      "text/html": [
       "<div>\n",
       "<style scoped>\n",
       "    .dataframe tbody tr th:only-of-type {\n",
       "        vertical-align: middle;\n",
       "    }\n",
       "\n",
       "    .dataframe tbody tr th {\n",
       "        vertical-align: top;\n",
       "    }\n",
       "\n",
       "    .dataframe thead th {\n",
       "        text-align: right;\n",
       "    }\n",
       "</style>\n",
       "<table border=\"1\" class=\"dataframe\">\n",
       "  <thead>\n",
       "    <tr style=\"text-align: right;\">\n",
       "      <th></th>\n",
       "      <th>Lo 20</th>\n",
       "      <th>Hi 20</th>\n",
       "    </tr>\n",
       "  </thead>\n",
       "  <tbody>\n",
       "    <tr>\n",
       "      <th>1999-01-01 00:01:00</th>\n",
       "      <td>0.000011</td>\n",
       "      <td>1.530000e-06</td>\n",
       "    </tr>\n",
       "    <tr>\n",
       "      <th>1999-01-01 00:02:00</th>\n",
       "      <td>-0.000004</td>\n",
       "      <td>-1.720000e-06</td>\n",
       "    </tr>\n",
       "    <tr>\n",
       "      <th>1999-01-01 00:03:00</th>\n",
       "      <td>-0.000003</td>\n",
       "      <td>3.680000e-06</td>\n",
       "    </tr>\n",
       "    <tr>\n",
       "      <th>1999-01-01 00:04:00</th>\n",
       "      <td>0.000008</td>\n",
       "      <td>6.790000e-06</td>\n",
       "    </tr>\n",
       "    <tr>\n",
       "      <th>1999-01-01 00:05:00</th>\n",
       "      <td>0.000004</td>\n",
       "      <td>-4.800000e-07</td>\n",
       "    </tr>\n",
       "  </tbody>\n",
       "</table>\n",
       "</div>"
      ],
      "text/plain": [
       "                        Lo 20         Hi 20\n",
       "1999-01-01 00:01:00  0.000011  1.530000e-06\n",
       "1999-01-01 00:02:00 -0.000004 -1.720000e-06\n",
       "1999-01-01 00:03:00 -0.000003  3.680000e-06\n",
       "1999-01-01 00:04:00  0.000008  6.790000e-06\n",
       "1999-01-01 00:05:00  0.000004 -4.800000e-07"
      ]
     },
     "execution_count": 101,
     "metadata": {},
     "output_type": "execute_result"
    }
   ],
   "source": [
    "\n",
    "returns = returns/100\n",
    "returns.head()"
   ]
  },
  {
   "cell_type": "code",
   "execution_count": 88,
   "metadata": {},
   "outputs": [
    {
     "data": {
      "text/plain": [
       "Lo 20    0.000661\n",
       "Hi 20    0.000499\n",
       "dtype: float64"
      ]
     },
     "execution_count": 88,
     "metadata": {},
     "output_type": "execute_result"
    }
   ],
   "source": [
    "returns.std()"
   ]
  },
  {
   "cell_type": "code",
   "execution_count": 89,
   "metadata": {},
   "outputs": [
    {
     "data": {
      "text/plain": [
       "Lo 20    0.002289\n",
       "Hi 20    0.001727\n",
       "dtype: float64"
      ]
     },
     "execution_count": 89,
     "metadata": {},
     "output_type": "execute_result"
    }
   ],
   "source": [
    "annualized_vol = returns.std()*np.sqrt(12)\n",
    "annualized_vol"
   ]
  },
  {
   "cell_type": "code",
   "execution_count": 90,
   "metadata": {},
   "outputs": [
    {
     "data": {
      "text/plain": [
       "Lo 20    0.000112\n",
       "Hi 20    0.000063\n",
       "dtype: float64"
      ]
     },
     "execution_count": 90,
     "metadata": {},
     "output_type": "execute_result"
    }
   ],
   "source": [
    "n_month = returns.shape[0]\n",
    "return_per_month = (returns+1).prod()**(1/n_month)-1\n",
    "return_per_month"
   ]
  },
  {
   "cell_type": "code",
   "execution_count": null,
   "metadata": {},
   "outputs": [],
   "source": []
  },
  {
   "cell_type": "code",
   "execution_count": 92,
   "metadata": {},
   "outputs": [
    {
     "data": {
      "text/plain": [
       "Lo 20    0.001343\n",
       "Hi 20    0.000760\n",
       "dtype: float64"
      ]
     },
     "execution_count": 92,
     "metadata": {},
     "output_type": "execute_result"
    }
   ],
   "source": [
    "annualized_return = (return_per_month+1)**12-1\n",
    "\n",
    "annualized_return"
   ]
  },
  {
   "cell_type": "code",
   "execution_count": 93,
   "metadata": {},
   "outputs": [
    {
     "data": {
      "text/plain": [
       "Lo 20    0.001343\n",
       "Hi 20    0.000760\n",
       "dtype: float64"
      ]
     },
     "execution_count": 93,
     "metadata": {},
     "output_type": "execute_result"
    }
   ],
   "source": [
    "annualized_return = (returns+1).prod()**(12/n_month)-1\n",
    "\n",
    "annualized_return"
   ]
  },
  {
   "cell_type": "code",
   "execution_count": 104,
   "metadata": {},
   "outputs": [
    {
     "data": {
      "text/html": [
       "<div>\n",
       "<style scoped>\n",
       "    .dataframe tbody tr th:only-of-type {\n",
       "        vertical-align: middle;\n",
       "    }\n",
       "\n",
       "    .dataframe tbody tr th {\n",
       "        vertical-align: top;\n",
       "    }\n",
       "\n",
       "    .dataframe thead th {\n",
       "        text-align: right;\n",
       "    }\n",
       "</style>\n",
       "<table border=\"1\" class=\"dataframe\">\n",
       "  <thead>\n",
       "    <tr style=\"text-align: right;\">\n",
       "      <th></th>\n",
       "      <th>Lo 20</th>\n",
       "      <th>Hi 20</th>\n",
       "    </tr>\n",
       "  </thead>\n",
       "  <tbody>\n",
       "    <tr>\n",
       "      <th>1999-01-01 00:01:00</th>\n",
       "      <td>0.000011</td>\n",
       "      <td>1.530000e-06</td>\n",
       "    </tr>\n",
       "    <tr>\n",
       "      <th>1999-01-01 00:02:00</th>\n",
       "      <td>-0.000004</td>\n",
       "      <td>-1.720000e-06</td>\n",
       "    </tr>\n",
       "    <tr>\n",
       "      <th>1999-01-01 00:03:00</th>\n",
       "      <td>-0.000003</td>\n",
       "      <td>3.680000e-06</td>\n",
       "    </tr>\n",
       "    <tr>\n",
       "      <th>1999-01-01 00:04:00</th>\n",
       "      <td>0.000008</td>\n",
       "      <td>6.790000e-06</td>\n",
       "    </tr>\n",
       "    <tr>\n",
       "      <th>1999-01-01 00:05:00</th>\n",
       "      <td>0.000004</td>\n",
       "      <td>-4.800000e-07</td>\n",
       "    </tr>\n",
       "  </tbody>\n",
       "</table>\n",
       "</div>"
      ],
      "text/plain": [
       "                        Lo 20         Hi 20\n",
       "1999-01-01 00:01:00  0.000011  1.530000e-06\n",
       "1999-01-01 00:02:00 -0.000004 -1.720000e-06\n",
       "1999-01-01 00:03:00 -0.000003  3.680000e-06\n",
       "1999-01-01 00:04:00  0.000008  6.790000e-06\n",
       "1999-01-01 00:05:00  0.000004 -4.800000e-07"
      ]
     },
     "execution_count": 104,
     "metadata": {},
     "output_type": "execute_result"
    }
   ],
   "source": [
    "columns = ['Lo 20','Hi 20']\n",
    "returns = returns[columns]\n",
    "returns.head()"
   ]
  },
  {
   "cell_type": "code",
   "execution_count": 66,
   "metadata": {},
   "outputs": [
    {
     "data": {
      "text/html": [
       "<div>\n",
       "<style scoped>\n",
       "    .dataframe tbody tr th:only-of-type {\n",
       "        vertical-align: middle;\n",
       "    }\n",
       "\n",
       "    .dataframe tbody tr th {\n",
       "        vertical-align: top;\n",
       "    }\n",
       "\n",
       "    .dataframe thead th {\n",
       "        text-align: right;\n",
       "    }\n",
       "</style>\n",
       "<table border=\"1\" class=\"dataframe\">\n",
       "  <thead>\n",
       "    <tr style=\"text-align: right;\">\n",
       "      <th></th>\n",
       "      <th>Lo 20</th>\n",
       "      <th>Hi 20</th>\n",
       "    </tr>\n",
       "  </thead>\n",
       "  <tbody>\n",
       "    <tr>\n",
       "      <th>1999-01-01 00:01:00</th>\n",
       "      <td>0.1114</td>\n",
       "      <td>0.0153</td>\n",
       "    </tr>\n",
       "    <tr>\n",
       "      <th>1999-01-01 00:02:00</th>\n",
       "      <td>-0.0399</td>\n",
       "      <td>-0.0172</td>\n",
       "    </tr>\n",
       "    <tr>\n",
       "      <th>1999-01-01 00:03:00</th>\n",
       "      <td>-0.0308</td>\n",
       "      <td>0.0368</td>\n",
       "    </tr>\n",
       "    <tr>\n",
       "      <th>1999-01-01 00:04:00</th>\n",
       "      <td>0.0824</td>\n",
       "      <td>0.0679</td>\n",
       "    </tr>\n",
       "    <tr>\n",
       "      <th>1999-01-01 00:05:00</th>\n",
       "      <td>0.0435</td>\n",
       "      <td>-0.0048</td>\n",
       "    </tr>\n",
       "    <tr>\n",
       "      <th>...</th>\n",
       "      <td>...</td>\n",
       "      <td>...</td>\n",
       "    </tr>\n",
       "    <tr>\n",
       "      <th>2015-01-01 00:08:00</th>\n",
       "      <td>-0.0347</td>\n",
       "      <td>-0.0559</td>\n",
       "    </tr>\n",
       "    <tr>\n",
       "      <th>2015-01-01 00:09:00</th>\n",
       "      <td>-0.0610</td>\n",
       "      <td>-0.0333</td>\n",
       "    </tr>\n",
       "    <tr>\n",
       "      <th>2015-01-01 00:10:00</th>\n",
       "      <td>0.0385</td>\n",
       "      <td>0.0710</td>\n",
       "    </tr>\n",
       "    <tr>\n",
       "      <th>2015-01-01 00:11:00</th>\n",
       "      <td>0.0165</td>\n",
       "      <td>0.0015</td>\n",
       "    </tr>\n",
       "    <tr>\n",
       "      <th>2015-01-01 00:12:00</th>\n",
       "      <td>-0.0500</td>\n",
       "      <td>-0.0229</td>\n",
       "    </tr>\n",
       "  </tbody>\n",
       "</table>\n",
       "<p>204 rows × 2 columns</p>\n",
       "</div>"
      ],
      "text/plain": [
       "                      Lo 20   Hi 20\n",
       "1999-01-01 00:01:00  0.1114  0.0153\n",
       "1999-01-01 00:02:00 -0.0399 -0.0172\n",
       "1999-01-01 00:03:00 -0.0308  0.0368\n",
       "1999-01-01 00:04:00  0.0824  0.0679\n",
       "1999-01-01 00:05:00  0.0435 -0.0048\n",
       "...                     ...     ...\n",
       "2015-01-01 00:08:00 -0.0347 -0.0559\n",
       "2015-01-01 00:09:00 -0.0610 -0.0333\n",
       "2015-01-01 00:10:00  0.0385  0.0710\n",
       "2015-01-01 00:11:00  0.0165  0.0015\n",
       "2015-01-01 00:12:00 -0.0500 -0.0229\n",
       "\n",
       "[204 rows x 2 columns]"
      ]
     },
     "execution_count": 66,
     "metadata": {},
     "output_type": "execute_result"
    }
   ],
   "source": [
    "returns\n",
    "\n"
   ]
  },
  {
   "cell_type": "code",
   "execution_count": 103,
   "metadata": {},
   "outputs": [],
   "source": [
    "#returns = returns.loc['1999':'2015']\n",
    "#returns\n"
   ]
  },
  {
   "cell_type": "code",
   "execution_count": 102,
   "metadata": {},
   "outputs": [
    {
     "data": {
      "text/html": [
       "<div>\n",
       "<style scoped>\n",
       "    .dataframe tbody tr th:only-of-type {\n",
       "        vertical-align: middle;\n",
       "    }\n",
       "\n",
       "    .dataframe tbody tr th {\n",
       "        vertical-align: top;\n",
       "    }\n",
       "\n",
       "    .dataframe thead th {\n",
       "        text-align: right;\n",
       "    }\n",
       "</style>\n",
       "<table border=\"1\" class=\"dataframe\">\n",
       "  <thead>\n",
       "    <tr style=\"text-align: right;\">\n",
       "      <th></th>\n",
       "      <th>Lo 20</th>\n",
       "      <th>Hi 20</th>\n",
       "    </tr>\n",
       "  </thead>\n",
       "  <tbody>\n",
       "    <tr>\n",
       "      <th>1999-01-01 00:01:00</th>\n",
       "      <td>0.000011</td>\n",
       "      <td>1.530000e-06</td>\n",
       "    </tr>\n",
       "    <tr>\n",
       "      <th>1999-01-01 00:02:00</th>\n",
       "      <td>-0.000004</td>\n",
       "      <td>-1.720000e-06</td>\n",
       "    </tr>\n",
       "    <tr>\n",
       "      <th>1999-01-01 00:03:00</th>\n",
       "      <td>-0.000003</td>\n",
       "      <td>3.680000e-06</td>\n",
       "    </tr>\n",
       "    <tr>\n",
       "      <th>1999-01-01 00:04:00</th>\n",
       "      <td>0.000008</td>\n",
       "      <td>6.790000e-06</td>\n",
       "    </tr>\n",
       "    <tr>\n",
       "      <th>1999-01-01 00:05:00</th>\n",
       "      <td>0.000004</td>\n",
       "      <td>-4.800000e-07</td>\n",
       "    </tr>\n",
       "    <tr>\n",
       "      <th>...</th>\n",
       "      <td>...</td>\n",
       "      <td>...</td>\n",
       "    </tr>\n",
       "    <tr>\n",
       "      <th>2015-01-01 00:08:00</th>\n",
       "      <td>-0.000003</td>\n",
       "      <td>-5.590000e-06</td>\n",
       "    </tr>\n",
       "    <tr>\n",
       "      <th>2015-01-01 00:09:00</th>\n",
       "      <td>-0.000006</td>\n",
       "      <td>-3.330000e-06</td>\n",
       "    </tr>\n",
       "    <tr>\n",
       "      <th>2015-01-01 00:10:00</th>\n",
       "      <td>0.000004</td>\n",
       "      <td>7.100000e-06</td>\n",
       "    </tr>\n",
       "    <tr>\n",
       "      <th>2015-01-01 00:11:00</th>\n",
       "      <td>0.000002</td>\n",
       "      <td>1.500000e-07</td>\n",
       "    </tr>\n",
       "    <tr>\n",
       "      <th>2015-01-01 00:12:00</th>\n",
       "      <td>-0.000005</td>\n",
       "      <td>-2.290000e-06</td>\n",
       "    </tr>\n",
       "  </tbody>\n",
       "</table>\n",
       "<p>204 rows × 2 columns</p>\n",
       "</div>"
      ],
      "text/plain": [
       "                        Lo 20         Hi 20\n",
       "1999-01-01 00:01:00  0.000011  1.530000e-06\n",
       "1999-01-01 00:02:00 -0.000004 -1.720000e-06\n",
       "1999-01-01 00:03:00 -0.000003  3.680000e-06\n",
       "1999-01-01 00:04:00  0.000008  6.790000e-06\n",
       "1999-01-01 00:05:00  0.000004 -4.800000e-07\n",
       "...                       ...           ...\n",
       "2015-01-01 00:08:00 -0.000003 -5.590000e-06\n",
       "2015-01-01 00:09:00 -0.000006 -3.330000e-06\n",
       "2015-01-01 00:10:00  0.000004  7.100000e-06\n",
       "2015-01-01 00:11:00  0.000002  1.500000e-07\n",
       "2015-01-01 00:12:00 -0.000005 -2.290000e-06\n",
       "\n",
       "[204 rows x 2 columns]"
      ]
     },
     "execution_count": 102,
     "metadata": {},
     "output_type": "execute_result"
    }
   ],
   "source": [
    "returns.index = pd.to_datetime(returns.index, format = \"Y%\")\n",
    "#returnss9915= returns[\"1999\":\"2015\"]\n",
    "returns"
   ]
  },
  {
   "cell_type": "code",
   "execution_count": 81,
   "metadata": {},
   "outputs": [
    {
     "data": {
      "text/plain": [
       "Lo 20    0.000661\n",
       "Hi 20    0.000499\n",
       "dtype: float64"
      ]
     },
     "execution_count": 81,
     "metadata": {},
     "output_type": "execute_result"
    }
   ],
   "source": [
    "returns.std()"
   ]
  },
  {
   "cell_type": "code",
   "execution_count": 82,
   "metadata": {},
   "outputs": [
    {
     "data": {
      "text/plain": [
       "Lo 20    0.002289\n",
       "Hi 20    0.001727\n",
       "dtype: float64"
      ]
     },
     "execution_count": 82,
     "metadata": {},
     "output_type": "execute_result"
    }
   ],
   "source": [
    "annualized_vol = returns.std()*np.sqrt(12)\n",
    "annualized_vol"
   ]
  },
  {
   "cell_type": "code",
   "execution_count": 83,
   "metadata": {},
   "outputs": [
    {
     "data": {
      "text/plain": [
       "Lo 20    0.000112\n",
       "Hi 20    0.000063\n",
       "dtype: float64"
      ]
     },
     "execution_count": 83,
     "metadata": {},
     "output_type": "execute_result"
    }
   ],
   "source": [
    "n_month = returns.shape[0]\n",
    "return_per_month = (returns+1).prod()**(1/n_month)-1\n",
    "return_per_month"
   ]
  },
  {
   "cell_type": "code",
   "execution_count": 84,
   "metadata": {},
   "outputs": [
    {
     "data": {
      "text/plain": [
       "Lo 20    0.002289\n",
       "Hi 20    0.001727\n",
       "dtype: float64"
      ]
     },
     "execution_count": 84,
     "metadata": {},
     "output_type": "execute_result"
    }
   ],
   "source": [
    "annualized_vol"
   ]
  },
  {
   "cell_type": "code",
   "execution_count": 85,
   "metadata": {},
   "outputs": [
    {
     "data": {
      "text/plain": [
       "Lo 20    0.001343\n",
       "Hi 20    0.000760\n",
       "dtype: float64"
      ]
     },
     "execution_count": 85,
     "metadata": {},
     "output_type": "execute_result"
    }
   ],
   "source": [
    "annualized_return = (return_per_month+1)**12-1\n",
    "annualized_return"
   ]
  },
  {
   "cell_type": "code",
   "execution_count": 105,
   "metadata": {},
   "outputs": [
    {
     "ename": "NameError",
     "evalue": "name 'hfi' is not defined",
     "output_type": "error",
     "traceback": [
      "\u001b[0;31m---------------------------------------------------------------------------\u001b[0m",
      "\u001b[0;31mNameError\u001b[0m                                 Traceback (most recent call last)",
      "\u001b[0;32m<ipython-input-105-ef452d224c37>\u001b[0m in \u001b[0;36m<module>\u001b[0;34m\u001b[0m\n\u001b[1;32m      1\u001b[0m \u001b[0;32mimport\u001b[0m \u001b[0medhec_risk_kit\u001b[0m \u001b[0;32mas\u001b[0m \u001b[0merk\u001b[0m\u001b[0;34m\u001b[0m\u001b[0;34m\u001b[0m\u001b[0m\n\u001b[0;32m----> 2\u001b[0;31m \u001b[0merk\u001b[0m\u001b[0;34m.\u001b[0m\u001b[0mget_ffme_returns\u001b[0m\u001b[0;34m(\u001b[0m\u001b[0mhfi\u001b[0m\u001b[0;34m)\u001b[0m\u001b[0;34m\u001b[0m\u001b[0;34m\u001b[0m\u001b[0m\n\u001b[0m",
      "\u001b[0;31mNameError\u001b[0m: name 'hfi' is not defined"
     ]
    }
   ],
   "source": [
    "import edhec_risk_kit as erk\n",
    "erk.get_ffme_returns()"
   ]
  },
  {
   "cell_type": "code",
   "execution_count": null,
   "metadata": {},
   "outputs": [],
   "source": []
  }
 ],
 "metadata": {
  "kernelspec": {
   "display_name": "Python 3",
   "language": "python",
   "name": "python3"
  },
  "language_info": {
   "codemirror_mode": {
    "name": "ipython",
    "version": 3
   },
   "file_extension": ".py",
   "mimetype": "text/x-python",
   "name": "python",
   "nbconvert_exporter": "python",
   "pygments_lexer": "ipython3",
   "version": "3.7.6"
  }
 },
 "nbformat": 4,
 "nbformat_minor": 4
}
